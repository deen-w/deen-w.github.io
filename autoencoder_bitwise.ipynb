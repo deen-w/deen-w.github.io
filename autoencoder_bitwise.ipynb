{
  "nbformat": 4,
  "nbformat_minor": 0,
  "metadata": {
    "anaconda-cloud": {},
    "colab": {
      "provenance": [],
      "collapsed_sections": []
    },
    "kernelspec": {
      "display_name": "Python 3",
      "language": "python",
      "name": "python3"
    },
    "language_info": {
      "codemirror_mode": {
        "name": "ipython",
        "version": 3
      },
      "file_extension": ".py",
      "mimetype": "text/x-python",
      "name": "python",
      "nbconvert_exporter": "python",
      "pygments_lexer": "ipython3",
      "version": "3.5.3"
    }
  },
  "cells": [
    {
      "cell_type": "code",
      "metadata": {
        "id": "VAq7WuVAb1sO"
      },
      "source": [
        "# importing libs\n",
        "import numpy as np\n",
        "import pandas as pd\n",
        "\n",
        "import tensorflow as tf\n",
        "import keras\n",
        "from keras.layers import Input, Dense, GaussianNoise,Lambda,Dropout\n",
        "from keras.models import Model\n",
        "from keras import regularizers\n",
        "from keras.layers import LeakyReLU\n",
        "#from keras.layers.normalization import BatchNormalization\n",
        "from tensorflow.keras.optimizers import Adam,SGD\n",
        "from keras import backend as K\n",
        "from numpy.random import rand, randn\n",
        "from numpy.random import seed\n",
        "from scipy.special import erfc\n",
        "\n",
        "\n",
        "import sys"
      ],
      "execution_count": null,
      "outputs": []
    },
    {
      "cell_type": "code",
      "metadata": {
        "id": "QvpokQ0u55iJ"
      },
      "source": [
        "#seed(3)\n",
        "#tf.random.set_seed(3)"
      ],
      "execution_count": null,
      "outputs": []
    },
    {
      "cell_type": "code",
      "metadata": {
        "id": "oB8Vk6OadnKx"
      },
      "source": [
        "np.set_printoptions(precision=None, threshold=sys.maxsize, edgeitems=None, linewidth=None, suppress=None, nanstr=None, infstr=None, formatter=None, sign=None, floatmode=None,  legacy=None)\n"
      ],
      "execution_count": null,
      "outputs": []
    },
    {
      "cell_type": "code",
      "metadata": {
        "collapsed": true,
        "id": "zRiKoA8Ob1sY"
      },
      "source": [
        "# for reproducing reslut\n",
        "#from numpy.random import seed\n",
        "#seed(1)\n",
        "#from tensorflow import set_random_seed\n",
        "#set_random_seed(3)"
      ],
      "execution_count": null,
      "outputs": []
    },
    {
      "cell_type": "code",
      "metadata": {
        "colab": {
          "base_uri": "https://localhost:8080/"
        },
        "id": "cUoPVfkbb1sZ",
        "outputId": "61f0abaa-48a9-43a2-fc70-b4342ddbee68"
      },
      "source": [
        "# defining parameters\n",
        "# define (n,k) here for (n,k) autoencoder\n",
        "# n = n_channel \n",
        "# k = log2(M)  ==> so for (7,4) autoencoder n_channel = 7 and M = 2^4 = 16 \n",
        "M = 256\n",
        "k = np.log2(M)\n",
        "k = int(k)\n",
        "n_channel = 8\n",
        "R = k/n_channel\n",
        "print ('M:',M,'k:',k,'n:',n_channel)"
      ],
      "execution_count": null,
      "outputs": [
        {
          "output_type": "stream",
          "name": "stdout",
          "text": [
            "M: 256 k: 8 n: 8\n"
          ]
        }
      ]
    },
    {
      "cell_type": "code",
      "metadata": {
        "collapsed": true,
        "id": "7Ihp2pEmb1sa"
      },
      "source": [
        "#generating data of size N\n",
        "N = 300000\n",
        "label = np.random.randint(M,size=N)\n",
        "label = np.array(label)\n",
        "#print(label)\n"
      ],
      "execution_count": null,
      "outputs": []
    },
    {
      "cell_type": "code",
      "metadata": {
        "id": "ubV9_OIYMNfu"
      },
      "source": [
        "\n",
        "data = ((label.reshape(-1,1) & (2**np.arange(k))) != 0).astype(int)\n",
        "data = data[:,::-1]\n",
        "#print(data)"
      ],
      "execution_count": null,
      "outputs": []
    },
    {
      "cell_type": "code",
      "metadata": {
        "id": "kn2L1CliHSCK"
      },
      "source": [],
      "execution_count": null,
      "outputs": []
    },
    {
      "cell_type": "code",
      "metadata": {
        "collapsed": true,
        "id": "uQ86yqEDb1sb"
      },
      "source": [
        "# creating one hot encoded vectors\n",
        "#data = []\n",
        "#for i in label:\n",
        " #   temp = np.zeros(M)\n",
        "  #  temp[i] = 1\n",
        "    #data.append(temp)"
      ],
      "execution_count": null,
      "outputs": []
    },
    {
      "cell_type": "code",
      "metadata": {
        "colab": {
          "base_uri": "https://localhost:8080/"
        },
        "id": "i5pa-Pudb1sc",
        "outputId": "f4712ae4-34a0-499e-8223-61db1667671d"
      },
      "source": [
        "# checking data shape\n",
        "data = np.array(data)\n",
        "print (data.shape)\n",
        "#print(data)\n"
      ],
      "execution_count": null,
      "outputs": [
        {
          "output_type": "stream",
          "name": "stdout",
          "text": [
            "(300000, 8)\n"
          ]
        }
      ]
    },
    {
      "cell_type": "code",
      "metadata": {
        "colab": {
          "base_uri": "https://localhost:8080/"
        },
        "id": "fWXJhyPmb1sd",
        "outputId": "9406d57b-8cba-4a34-d154-b186ca1b10e9"
      },
      "source": [
        "# checking generated data with it's label\n",
        "temp_check = [1,23,45,67,89,96,72,250,350]\n",
        "for i in temp_check:\n",
        "    print(label[i],data[i])"
      ],
      "execution_count": null,
      "outputs": [
        {
          "output_type": "stream",
          "name": "stdout",
          "text": [
            "218 [1 1 0 1 1 0 1 0]\n",
            "0 [0 0 0 0 0 0 0 0]\n",
            "76 [0 1 0 0 1 1 0 0]\n",
            "179 [1 0 1 1 0 0 1 1]\n",
            "241 [1 1 1 1 0 0 0 1]\n",
            "157 [1 0 0 1 1 1 0 1]\n",
            "184 [1 0 1 1 1 0 0 0]\n",
            "215 [1 1 0 1 0 1 1 1]\n",
            "217 [1 1 0 1 1 0 0 1]\n"
          ]
        }
      ]
    },
    {
      "cell_type": "code",
      "metadata": {
        "id": "pLYKMtlgX86F"
      },
      "source": [
        "B = np.random.normal(0, 1, n_channel)\n",
        "b = np.random.normal(0, 1, n_channel)"
      ],
      "execution_count": null,
      "outputs": []
    },
    {
      "cell_type": "code",
      "metadata": {
        "id": "6e9RFtTPawhi",
        "colab": {
          "base_uri": "https://localhost:8080/"
        },
        "outputId": "6dbb633d-592b-473e-d8c3-c7fa9931bdcc"
      },
      "source": [
        "def EbNo(EbNodB_):\n",
        "  '''Convert Eb/No in dB to noise standard deviation'''\n",
        "  EbNo = 10**(EbNodB_/10)\n",
        "  return EbNo\n",
        "\n",
        "alpha = EbNo(6)\n",
        "#alpha = np.sqrt(1/(2*R*alpha))\n",
        "print(alpha)"
      ],
      "execution_count": null,
      "outputs": [
        {
          "output_type": "stream",
          "name": "stdout",
          "text": [
            "3.9810717055349722\n"
          ]
        }
      ]
    },
    {
      "cell_type": "code",
      "metadata": {
        "id": "MhN1OYs_qhSV"
      },
      "source": [
        "#z = np.random.uniform(size=[100,k],low=-1,high=1)\n",
        "v = 1/3\n",
        "b_std = v**(1/2)\n",
        "#z = 2 * (rand(100,k) >= 0.5) - 1\n",
        "#z = z * b_std\n",
        "#print(z)"
      ],
      "execution_count": null,
      "outputs": []
    },
    {
      "cell_type": "code",
      "metadata": {
        "colab": {
          "base_uri": "https://localhost:8080/"
        },
        "collapsed": true,
        "id": "12Jz4seyb1se",
        "outputId": "c2c9f24e-fc9d-4193-e65f-0e243a262150"
      },
      "source": [
        "# defining autoencoder and it's layer\n",
        "input_signal = Input(shape=(k,))\n",
        "encoded = Dense(4*k, activation='relu')(input_signal)\n",
        "encoded1 = Dense(n_channel, activation='linear')(encoded)\n",
        "encoded2 = Lambda(lambda x: np.sqrt(n_channel)*K.l2_normalize(x,axis=1))(encoded1)\n",
        "#encoded2 = alpha*encoded2\n",
        "\n",
        "#encoded3 =  ((B * encoded2) + (b))\n",
        "encoded3= (np.random.normal(0, 1, n_channel)*encoded2 +(np.random.normal(0, 1, n_channel)))\n",
        "#encoded3 = Dense(n_channel, activation='sigmoid')(encoded2)\n",
        "#encoded3 = Dense(n_channel, activation=keras.layers.LeakyReLU(alpha=0.01))(encoded2)\n",
        "\n",
        "#encoded3 = Lambda(lambda x: np.sqrt(n_channel)*K.l2_normalize(x,axis=1))(encoded2)\n",
        "\n",
        "EbNo_train = EbNo(6)   #5.01187 #  coverted 7 db of EbNo\n",
        "encoded4 = GaussianNoise(np.sqrt(1/(2*R*EbNo_train)))(encoded3)  #+ z\n",
        "#encoded3 =encoded3 + z\n",
        "decoded = Dense(4*k, activation='relu')(encoded4)\n",
        "decoded1 = Dense(k, activation='sigmoid')(decoded)\n",
        "autoencoder = Model(input_signal, decoded1)\n",
        "adam = Adam(lr=0.005)\n",
        "autoencoder.compile(optimizer=adam, loss='binary_crossentropy')\n",
        "\n"
      ],
      "execution_count": null,
      "outputs": [
        {
          "output_type": "stream",
          "name": "stderr",
          "text": [
            "/usr/local/lib/python3.7/dist-packages/keras/optimizer_v2/optimizer_v2.py:356: UserWarning: The `lr` argument is deprecated, use `learning_rate` instead.\n",
            "  \"The `lr` argument is deprecated, use `learning_rate` instead.\")\n"
          ]
        }
      ]
    },
    {
      "cell_type": "code",
      "metadata": {
        "colab": {
          "base_uri": "https://localhost:8080/"
        },
        "id": "rXd9Sv2vb1sf",
        "outputId": "0ed84c66-129e-4008-ba1c-85f5bc8d364a"
      },
      "source": [
        "# printing summary of layers and it's trainable parameters \n",
        "print (autoencoder.summary())"
      ],
      "execution_count": null,
      "outputs": [
        {
          "output_type": "stream",
          "name": "stdout",
          "text": [
            "Model: \"model\"\n",
            "_________________________________________________________________\n",
            "Layer (type)                 Output Shape              Param #   \n",
            "=================================================================\n",
            "input_1 (InputLayer)         [(None, 8)]               0         \n",
            "_________________________________________________________________\n",
            "dense (Dense)                (None, 32)                288       \n",
            "_________________________________________________________________\n",
            "dense_1 (Dense)              (None, 8)                 264       \n",
            "_________________________________________________________________\n",
            "lambda (Lambda)              (None, 8)                 0         \n",
            "_________________________________________________________________\n",
            "tf.math.multiply (TFOpLambda (None, 8)                 0         \n",
            "_________________________________________________________________\n",
            "tf.__operators__.add (TFOpLa (None, 8)                 0         \n",
            "_________________________________________________________________\n",
            "gaussian_noise (GaussianNois (None, 8)                 0         \n",
            "_________________________________________________________________\n",
            "dense_2 (Dense)              (None, 32)                288       \n",
            "_________________________________________________________________\n",
            "dense_3 (Dense)              (None, 8)                 264       \n",
            "=================================================================\n",
            "Total params: 1,104\n",
            "Trainable params: 1,104\n",
            "Non-trainable params: 0\n",
            "_________________________________________________________________\n",
            "None\n"
          ]
        }
      ]
    },
    {
      "cell_type": "code",
      "metadata": {
        "collapsed": true,
        "id": "F0rDl6bSb1sg"
      },
      "source": [
        "# for tensor board visualization\n",
        "#tbCallBack = keras.callbacks.TensorBoard(log_dir='./logs', histogram_freq=0, batch_size=32, write_graph=True, write_grads=True, write_images=False, embeddings_freq=0, embeddings_layer_names=None, embeddings_metadata=None)"
      ],
      "execution_count": null,
      "outputs": []
    },
    {
      "cell_type": "code",
      "metadata": {
        "id": "K34kWNlo2G7B"
      },
      "source": [
        "batch_size =100"
      ],
      "execution_count": null,
      "outputs": []
    },
    {
      "cell_type": "code",
      "metadata": {
        "colab": {
          "base_uri": "https://localhost:8080/"
        },
        "id": "pGMuny4Ob1sh",
        "scrolled": true,
        "outputId": "1a75313e-d872-428e-88a6-6c3b3797d752"
      },
      "source": [
        "# traning auto encoder\n",
        "autoencoder.fit(data, data,\n",
        "                epochs=30,\n",
        "                batch_size=batch_size)"
      ],
      "execution_count": null,
      "outputs": [
        {
          "output_type": "stream",
          "name": "stdout",
          "text": [
            "Epoch 1/30\n",
            "3000/3000 [==============================] - 6s 2ms/step - loss: 0.2021\n",
            "Epoch 2/30\n",
            "3000/3000 [==============================] - 5s 2ms/step - loss: 0.1544\n",
            "Epoch 3/30\n",
            "3000/3000 [==============================] - 5s 2ms/step - loss: 0.1388\n",
            "Epoch 4/30\n",
            "3000/3000 [==============================] - 5s 2ms/step - loss: 0.1276\n",
            "Epoch 5/30\n",
            "3000/3000 [==============================] - 5s 2ms/step - loss: 0.1236\n",
            "Epoch 6/30\n",
            "3000/3000 [==============================] - 5s 2ms/step - loss: 0.1173\n",
            "Epoch 7/30\n",
            "3000/3000 [==============================] - 5s 2ms/step - loss: 0.1149\n",
            "Epoch 8/30\n",
            "3000/3000 [==============================] - 5s 2ms/step - loss: 0.1138\n",
            "Epoch 9/30\n",
            "3000/3000 [==============================] - 5s 2ms/step - loss: 0.1129\n",
            "Epoch 10/30\n",
            "3000/3000 [==============================] - 5s 2ms/step - loss: 0.1117\n",
            "Epoch 11/30\n",
            "3000/3000 [==============================] - 5s 2ms/step - loss: 0.1100\n",
            "Epoch 12/30\n",
            "3000/3000 [==============================] - 5s 2ms/step - loss: 0.1076\n",
            "Epoch 13/30\n",
            "3000/3000 [==============================] - 5s 2ms/step - loss: 0.1057\n",
            "Epoch 14/30\n",
            "3000/3000 [==============================] - 5s 2ms/step - loss: 0.1043\n",
            "Epoch 15/30\n",
            "3000/3000 [==============================] - 5s 2ms/step - loss: 0.1032\n",
            "Epoch 16/30\n",
            "3000/3000 [==============================] - 5s 2ms/step - loss: 0.1029\n",
            "Epoch 17/30\n",
            "3000/3000 [==============================] - 5s 2ms/step - loss: 0.1024\n",
            "Epoch 18/30\n",
            "3000/3000 [==============================] - 5s 2ms/step - loss: 0.1025\n",
            "Epoch 19/30\n",
            "3000/3000 [==============================] - 5s 2ms/step - loss: 0.1011\n",
            "Epoch 20/30\n",
            "3000/3000 [==============================] - 5s 2ms/step - loss: 0.1013\n",
            "Epoch 21/30\n",
            "3000/3000 [==============================] - 5s 2ms/step - loss: 0.1006\n",
            "Epoch 22/30\n",
            "3000/3000 [==============================] - 5s 2ms/step - loss: 0.1005\n",
            "Epoch 23/30\n",
            "3000/3000 [==============================] - 5s 2ms/step - loss: 0.1001\n",
            "Epoch 24/30\n",
            "3000/3000 [==============================] - 5s 2ms/step - loss: 0.1002\n",
            "Epoch 25/30\n",
            "3000/3000 [==============================] - 5s 2ms/step - loss: 0.1004\n",
            "Epoch 26/30\n",
            "3000/3000 [==============================] - 5s 2ms/step - loss: 0.1002\n",
            "Epoch 27/30\n",
            "3000/3000 [==============================] - 5s 2ms/step - loss: 0.1004\n",
            "Epoch 28/30\n",
            "3000/3000 [==============================] - 5s 2ms/step - loss: 0.1003\n",
            "Epoch 29/30\n",
            "3000/3000 [==============================] - 5s 2ms/step - loss: 0.0999\n",
            "Epoch 30/30\n",
            "3000/3000 [==============================] - 5s 2ms/step - loss: 0.1004\n"
          ]
        },
        {
          "output_type": "execute_result",
          "data": {
            "text/plain": [
              "<keras.callbacks.History at 0x7f39e2665810>"
            ]
          },
          "metadata": {},
          "execution_count": 18
        }
      ]
    },
    {
      "cell_type": "code",
      "metadata": {
        "id": "Cp791p7E68-k"
      },
      "source": [
        "adam1 = Adam(learning_rate=0.0008)\n",
        "autoencoder.compile(optimizer=adam1, loss='binary_crossentropy')"
      ],
      "execution_count": null,
      "outputs": []
    },
    {
      "cell_type": "code",
      "metadata": {
        "id": "RyPUTe525GJ4"
      },
      "source": [],
      "execution_count": null,
      "outputs": []
    },
    {
      "cell_type": "code",
      "metadata": {
        "id": "4wGdNbCjAG6B",
        "colab": {
          "base_uri": "https://localhost:8080/"
        },
        "outputId": "d3928541-ba08-4173-f6bf-bdfe7b889c0b"
      },
      "source": [
        "autoencoder.fit(data, data,    epochs=30,     batch_size=batch_size)"
      ],
      "execution_count": null,
      "outputs": [
        {
          "output_type": "stream",
          "name": "stdout",
          "text": [
            "Epoch 1/30\n",
            "3000/3000 [==============================] - 5s 2ms/step - loss: 0.0966\n",
            "Epoch 2/30\n",
            "3000/3000 [==============================] - 5s 2ms/step - loss: 0.0962\n",
            "Epoch 3/30\n",
            "3000/3000 [==============================] - 5s 2ms/step - loss: 0.0967\n",
            "Epoch 4/30\n",
            "3000/3000 [==============================] - 5s 2ms/step - loss: 0.0961\n",
            "Epoch 5/30\n",
            "3000/3000 [==============================] - 5s 2ms/step - loss: 0.0957\n",
            "Epoch 6/30\n",
            "3000/3000 [==============================] - 5s 2ms/step - loss: 0.0964\n",
            "Epoch 7/30\n",
            "3000/3000 [==============================] - 5s 2ms/step - loss: 0.0960\n",
            "Epoch 8/30\n",
            "3000/3000 [==============================] - 5s 2ms/step - loss: 0.0961\n",
            "Epoch 9/30\n",
            "3000/3000 [==============================] - 5s 2ms/step - loss: 0.0962\n",
            "Epoch 10/30\n",
            "3000/3000 [==============================] - 5s 2ms/step - loss: 0.0965\n",
            "Epoch 11/30\n",
            "3000/3000 [==============================] - 5s 2ms/step - loss: 0.0964\n",
            "Epoch 12/30\n",
            "3000/3000 [==============================] - 5s 2ms/step - loss: 0.0955\n",
            "Epoch 13/30\n",
            "3000/3000 [==============================] - 5s 2ms/step - loss: 0.0961\n",
            "Epoch 14/30\n",
            "3000/3000 [==============================] - 5s 2ms/step - loss: 0.0959\n",
            "Epoch 15/30\n",
            "3000/3000 [==============================] - 5s 2ms/step - loss: 0.0965\n",
            "Epoch 16/30\n",
            "3000/3000 [==============================] - 5s 2ms/step - loss: 0.0964\n",
            "Epoch 17/30\n",
            "3000/3000 [==============================] - 5s 2ms/step - loss: 0.0961\n",
            "Epoch 18/30\n",
            "3000/3000 [==============================] - 5s 2ms/step - loss: 0.0960\n",
            "Epoch 19/30\n",
            "3000/3000 [==============================] - 5s 2ms/step - loss: 0.0957\n",
            "Epoch 20/30\n",
            "3000/3000 [==============================] - 5s 2ms/step - loss: 0.0960\n",
            "Epoch 21/30\n",
            "3000/3000 [==============================] - 5s 2ms/step - loss: 0.0959\n",
            "Epoch 22/30\n",
            "3000/3000 [==============================] - 5s 2ms/step - loss: 0.0959\n",
            "Epoch 23/30\n",
            "3000/3000 [==============================] - 5s 2ms/step - loss: 0.0954\n",
            "Epoch 24/30\n",
            "3000/3000 [==============================] - 5s 2ms/step - loss: 0.0960\n",
            "Epoch 25/30\n",
            "3000/3000 [==============================] - 5s 2ms/step - loss: 0.0967\n",
            "Epoch 26/30\n",
            "3000/3000 [==============================] - 5s 2ms/step - loss: 0.0962\n",
            "Epoch 27/30\n",
            "3000/3000 [==============================] - 5s 2ms/step - loss: 0.0956\n",
            "Epoch 28/30\n",
            "3000/3000 [==============================] - 5s 2ms/step - loss: 0.0958\n",
            "Epoch 29/30\n",
            "3000/3000 [==============================] - 5s 2ms/step - loss: 0.0956\n",
            "Epoch 30/30\n",
            "3000/3000 [==============================] - 5s 2ms/step - loss: 0.0961\n"
          ]
        },
        {
          "output_type": "execute_result",
          "data": {
            "text/plain": [
              "<keras.callbacks.History at 0x7f39dbc53650>"
            ]
          },
          "metadata": {},
          "execution_count": 20
        }
      ]
    },
    {
      "cell_type": "code",
      "metadata": {
        "collapsed": true,
        "id": "FDAJKsMDb1sh"
      },
      "source": [
        "# saving keras model\n",
        "from keras.models import load_model\n",
        "# if you want to save model then remove below comment\n",
        "# autoencoder.save('autoencoder_v_best.model')"
      ],
      "execution_count": null,
      "outputs": []
    },
    {
      "cell_type": "code",
      "metadata": {
        "id": "u1JZWK9H81SU"
      },
      "source": [
        "encoder0 = Model(input_signal, encoded1)"
      ],
      "execution_count": null,
      "outputs": []
    },
    {
      "cell_type": "code",
      "metadata": {
        "id": "3HDPj-aePEv5"
      },
      "source": [
        "encoder1 = Model(input_signal, encoded2)"
      ],
      "execution_count": null,
      "outputs": []
    },
    {
      "cell_type": "code",
      "metadata": {
        "collapsed": true,
        "id": "HO35Eze5b1si"
      },
      "source": [
        "# making encoder from full autoencoder\n",
        "encoder = Model(input_signal, encoded3)"
      ],
      "execution_count": null,
      "outputs": []
    },
    {
      "cell_type": "code",
      "metadata": {
        "collapsed": true,
        "id": "FxsVpLovb1sj"
      },
      "source": [
        "# making decoder from full autoencoder\n",
        "encoded_input = Input(shape=(n_channel,))\n",
        "\n",
        "deco = autoencoder.layers[-2](encoded_input)\n",
        "\n",
        "deco = autoencoder.layers[-1](deco)\n",
        "decoder = Model(encoded_input, deco)"
      ],
      "execution_count": null,
      "outputs": []
    },
    {
      "cell_type": "code",
      "metadata": {
        "collapsed": true,
        "id": "2TOuSmbpb1sk"
      },
      "source": [
        "# generating data for checking BER\n",
        "# if you're not using t-sne for visulation than set N to 70,000 for better result \n",
        "# for t-sne use less N like N = 1500\n",
        "N = 500000\n",
        "test_label = np.random.randint(M,size=N)\n",
        "#test_label = range(256)\n",
        "#test_label = [0,1,2,3,4,5,6,7,8,9,10,11,12,13,14,15,16,17,18,19,20,21,22,23,24,25,26,27,28,29,30,31,32,33,34,35,36,37,38,39,40,41,42,43,44,45,46,47,48,49,50,51,52,53,54,55,56,57,58,59,60,61,62,63,64,65,66,67,68,69,70,71,72,73,74,75,76,77,78,79,80,81,82,83,84,85,86,87,88,89,90,91,92,93,94,95,96,97,98,99,100,101,102,103,104,105,106,107,108,109,110,111,112,113,114,115,116,117,118,119,120,121,122,123,124,125,126,127,128,129,130,131,132,133,134,135,136,137,138,139,140,141,142,143,144,145,146,147,148,149,150,151,152,153,154,155,156,157,158,159,160,161,162,163,164,165,166,167,168,169,170,171,172,173,174,175,176,177,178,179,180,181,182,183,184,185,186,187,188,189,190,191,192,193,194,195,196,197,198,199,200,201,202,203,204,205,206,207,208,209,210,211,212,213,214,215,216,217,218,219,220,221,222,223,224,225,226,227,228,229,230,231,232,233,234,235,236,237,238,239,240,241,242,243,244,245,246,247,248,249,250,251,252,253,254,255]\n",
        "#test_label = [120,121,122,123,124,125,126,127,128,129,130,131,132,133,134,135,136,137,138,139,140,141,142,143,144,145,146,147,148,149,150,151,152,153,154,155,156,157,158,159,160,161,162,163,164,165,166,167,168,169,170,171,172,173,174,175,176,177,178,179,180,181,182,183,184,185,186,187,188,189,190,191,192,193,194,195,196,197,198,199,200,201,202,203,204,205,206,207,208,209,210,211,212,213,214,215,216,217,218,219,220,221,222,223,224,225,226,227,228,229,230,231,232,233,234,235,236,237,238,239]\n",
        "#test_label=[240,241,242,243,244,245,246,247,248,249,250,251,252,253,254,255]\n",
        "#test_data = []\n",
        "\n",
        "#for i in test_label:\n",
        " #   temp = np.zeros(M)\n",
        "  #  temp[i] = 1\n",
        "   # test_data.append(temp)\n",
        "    \n",
        "#test_data = np.array(test_data)"
      ],
      "execution_count": null,
      "outputs": []
    },
    {
      "cell_type": "code",
      "metadata": {
        "id": "9NUQybJyebeP"
      },
      "source": [
        "#N = 120\n",
        "#test_label = range(120, 240)\n",
        "test_label = np.array(test_label)\n",
        "test_data = ((test_label.reshape(-1,1) & (2**np.arange(k))) != 0).astype(int)\n",
        "test_data = test_data[:,::-1]\n",
        "#print(test_data)"
      ],
      "execution_count": null,
      "outputs": []
    },
    {
      "cell_type": "code",
      "metadata": {
        "id": "Stj7qykV2VBy"
      },
      "source": [
        "#print(test_label)\n",
        "#print(test_data)"
      ],
      "execution_count": null,
      "outputs": []
    },
    {
      "cell_type": "code",
      "metadata": {
        "id": "2Bj1x3cvb1sk"
      },
      "source": [
        "# checking generated data\n",
        "#temp_test = 1\n",
        "#print (test_data[temp_test][test_label[temp_test]],test_label[temp_test])"
      ],
      "execution_count": null,
      "outputs": []
    },
    {
      "cell_type": "code",
      "metadata": {
        "id": "v2I31xoSb1sl"
      },
      "source": [
        "# for plotting learned consteallation diagram\n",
        "\n",
        "#scatter_plot = []\n",
        "#for i in range(0,M):\n",
        " #   temp = np.zeros(M)\n",
        "  #  temp[i] = 1\n",
        "   # scatter_plot.append(encoder.predict(np.expand_dims(temp,axis=0)))\n",
        "#scatter_plot = np.array(scatter_plot)\n",
        "#print (scatter_plot.shape)"
      ],
      "execution_count": null,
      "outputs": []
    },
    {
      "cell_type": "code",
      "metadata": {
        "colab": {
          "base_uri": "https://localhost:8080/",
          "height": 85
        },
        "id": "jvBMD1Wbb1sm",
        "outputId": "bf38f080-4b08-4d4c-f3c2-19c2dc30dadd"
      },
      "source": [
        " # use this function for ploting constellation for higher dimenson like 7-D for (7,4) autoencoder \n",
        "'''\n",
        "x_emb = encoder.predict(test_data)\n",
        "noise_std = np.sqrt(1/(2*R*EbNo_train))\n",
        "noise = noise_std * np.random.randn(N,n_channel)\n",
        "x_emb = x_emb + noise\n",
        "from sklearn.manifold import TSNE\n",
        "X_embedded = TSNE(learning_rate=700, n_components=2,n_iter=35000, random_state=0, perplexity=60).fit_transform(x_emb)\n",
        "print (X_embedded.shape)\n",
        "X_embedded = X_embedded / 7\n",
        "import matplotlib.pyplot as plt\n",
        "plt.scatter(X_embedded[:,0],X_embedded[:,1])\n",
        "#plt.axis((-2.5,2.5,-2.5,2.5)) \n",
        "plt.grid()\n",
        "plt.show()\n",
        "'''"
      ],
      "execution_count": null,
      "outputs": [
        {
          "output_type": "execute_result",
          "data": {
            "application/vnd.google.colaboratory.intrinsic+json": {
              "type": "string"
            },
            "text/plain": [
              "'\\nx_emb = encoder.predict(test_data)\\nnoise_std = np.sqrt(1/(2*R*EbNo_train))\\nnoise = noise_std * np.random.randn(N,n_channel)\\nx_emb = x_emb + noise\\nfrom sklearn.manifold import TSNE\\nX_embedded = TSNE(learning_rate=700, n_components=2,n_iter=35000, random_state=0, perplexity=60).fit_transform(x_emb)\\nprint (X_embedded.shape)\\nX_embedded = X_embedded / 7\\nimport matplotlib.pyplot as plt\\nplt.scatter(X_embedded[:,0],X_embedded[:,1])\\n#plt.axis((-2.5,2.5,-2.5,2.5)) \\nplt.grid()\\nplt.show()\\n'"
            ]
          },
          "metadata": {},
          "execution_count": 31
        }
      ]
    },
    {
      "cell_type": "code",
      "metadata": {
        "id": "u3miBwNpb1sn"
      },
      "source": [
        "# ploting constellation diagram\n",
        "#import matplotlib.pyplot as plt\n",
        "#scatter_plot = scatter_plot.reshape(M,2,1)\n",
        "#plt.scatter(scatter_plot[:,0],scatter_plot[:,1])\n",
        "#plt.axis((-2.5,2.5,-2.5,2.5))\n",
        "#plt.grid()\n",
        "#plt.show()"
      ],
      "execution_count": null,
      "outputs": []
    },
    {
      "cell_type": "code",
      "metadata": {
        "collapsed": true,
        "id": "ALU5F3Vkb1sn"
      },
      "source": [
        "def frange(x, y, jump):\n",
        "  while x < y:\n",
        "    yield x\n",
        "    x += jump"
      ],
      "execution_count": null,
      "outputs": []
    },
    {
      "cell_type": "code",
      "metadata": {
        "id": "N6k20odl3qoi"
      },
      "source": [
        "N2 = 256\n",
        "#test_label2 = np.random.randint(M,size=N2)\n",
        "test_label2 = range(0,256)\n",
        "#test_label2 = [0,1,2,3,4,5,6,7,8,9,10,11,12,13,14,15,16,17,18,19,20,21,22,23,24,25,26,27,28,29,30,31,32,33,34,35,36,37,38,39,40,41,42,43,44,45,46,47,48,49,50,51,52,53,54,55,56,57,58,59,60,61,62,63,64,65,66,67,68,69,70,71,72,73,74,75,76,77,78,79,80,81,82,83,84,85,86,87,88,89,90,91,92,93,94,95,96,97,98,99,100,101,102,103,104,105,106,107,108,109,110,111,112,113,114,115,116,117,118,119]\n",
        "#test_label2 = [120,121,122,123,124,125,126,127,128,129,130,131,132,133,134,135,136,137,138,139,140,141,142,143,144,145,146,147,148,149,150,151,152,153,154,155,156,157,158,159,160,161,162,163,164,165,166,167,168,169,170,171,172,173,174,175,176,177,178,179,180,181,182,183,184,185,186,187,188,189,190,191,192,193,194,195,196,197,198,199,200,201,202,203,204,205,206,207,208,209,210,211,212,213,214,215,216,217,218,219,220,221,222,223,224,225,226,227,228,229,230,231,232,233,234,235,236,237,238,239]\n",
        "#test_label2 =[240,241,242,243,244,245,246,247,248,249,250,251,252,253,254,255]\n",
        "test_label2 = np.array(test_label2)\n",
        "test_s = ((test_label2.reshape(-1,1) & (2**np.arange(k))) != 0).astype(int)\n",
        "test_s = test_s[:,::-1]\n",
        "#print(test_s)\n",
        "\n",
        "\n",
        "EbNodB_ = 7 #list(frange(-2,10,0.5))\n",
        "ber = [None]*(EbNodB_)\n",
        "EbNo=10.0**(EbNodB_/10.0)\n",
        "noise_std = np.sqrt(1/(2*R*EbNo))\n",
        "noise_mean = 0\n",
        "no_errors = 0\n",
        "nn = N2\n",
        "noise = noise_std * np.random.randn(nn,n_channel)\n",
        "#encoded_signal0 = encoder0.predict(test_s) \n",
        "\n",
        "encoded_signal = encoder0.predict(test_s) \n",
        "nonlinear_output = encoder1.predict(test_s) \n",
        "nlo=encoder.predict(test_s)\n",
        "final_signal = encoded_signal + noise\n",
        "pred_final_signal =  decoder.predict(final_signal)\n",
        "pred_output = tf.round(pred_final_signal)\n",
        "no_errors = (pred_output != test_label)\n",
        "#no_errors =  no_errors.astype(int).sum()\n",
        "#ber = no_errors / nn \n",
        "#print(test_label2)\n",
        "#print(encoded_signal, \" \",end='')\n",
        "#print(nonlinear_output)\n",
        "#print(nlo)"
      ],
      "execution_count": null,
      "outputs": []
    },
    {
      "cell_type": "code",
      "metadata": {
        "id": "vGOj4ulYFOBi"
      },
      "source": [
        "#z = np.random.uniform(size=[N,k],low=-0.25,high=0.25)\n",
        "v = 1/2\n",
        "b_std = v**(1/2)\n",
        "#z = 2 * (rand(N,k) >= 0.5) - 1\n",
        "#z = z * b_std\n",
        "#print(z)"
      ],
      "execution_count": null,
      "outputs": []
    },
    {
      "cell_type": "code",
      "metadata": {
        "id": "SD3W-V6wb1so",
        "colab": {
          "base_uri": "https://localhost:8080/"
        },
        "outputId": "4de7a63a-ece4-4c91-84d1-5ec437d5f826"
      },
      "source": [
        "# calculating BER\n",
        "# this is optimized BER function so it can handle large number of N\n",
        "# previous code has another for loop which was making it slow\n",
        "EbNodB_range = list(frange(-2,11,1))\n",
        "ber = [None]*len(EbNodB_range)\n",
        "for n in range(0,len(EbNodB_range)):\n",
        "    EbNo=10.0**(EbNodB_range[n]/10.0)\n",
        "    noise_std = np.sqrt(1/(2*R*EbNo))\n",
        "    noise_mean = 0\n",
        "    no_errors = 0\n",
        "    nn = N\n",
        "    noise = noise_std * np.random.randn(nn,n_channel)\n",
        "    encoded_signal = encoder.predict(test_data) \n",
        "    final_signal = encoded_signal + noise  #+ z\n",
        "    pred_final_signal =  decoder.predict(final_signal)\n",
        "    pred_output = tf.round(pred_final_signal)\n",
        "    #no_errors = np.mean(pred_output != test_data)\n",
        "    no_errors = tf.reduce_mean(tf.cast(tf.not_equal(tf.cast(pred_output, tf.float32), test_data),tf.float32))\n",
        "    #print(no_errors)\n",
        "    ber[n] = no_errors #/nn\n",
        "    #no_errors = (pred_s != test_data)\n",
        "    #no_errors =  no_errors.astype(int).sum()\n",
        "    #print ('SNR:',EbNodB_range[n],'BER:',ber[n])\n",
        "    # use below line for generating matlab like matrix which can be copy and paste for plotting ber graph in matlab\n",
        "    #print(ber[n], \" \",end='')\n",
        "    print(tf.keras.backend.get_value(ber[n]), \" \",end='')\n",
        "\n",
        "    #print(encoded_signal)\n",
        "    #print(pred_s)\n",
        "    #print(pred_output)"
      ],
      "execution_count": null,
      "outputs": [
        {
          "output_type": "stream",
          "name": "stdout",
          "text": [
            "0.21639325  0.1921495  0.167607  0.142296  0.1184735  0.09507175  0.0739705  0.054207  0.03766925  0.024199  0.014378  0.00767825  0.0036275  "
          ]
        }
      ]
    },
    {
      "cell_type": "code",
      "metadata": {
        "id": "yJ5tfFBQDbka"
      },
      "source": [
        "theoryBER = np.zeros(len(EbNodB_range),float)\n",
        "for i in range(len(EbNodB_range)):\n",
        "    theoryBER[i] = 0.5*erfc(np.sqrt(10**(EbNodB_range[i]/10)))"
      ],
      "execution_count": null,
      "outputs": []
    },
    {
      "cell_type": "code",
      "metadata": {
        "id": "XptYumseb1sp",
        "colab": {
          "base_uri": "https://localhost:8080/",
          "height": 302
        },
        "outputId": "7fe72d40-a215-4db5-bcce-d0ec7aaf13ad"
      },
      "source": [
        "# ploting ber curve\n",
        "import matplotlib.pyplot as plt\n",
        "from scipy import interpolate\n",
        "plt.plot(EbNodB_range, theoryBER, '-ro',label='BPSK')\n",
        "\n",
        "plt.plot(EbNodB_range, ber, '-bo',label='Autoencoder(4,4)')\n",
        "plt.yscale('log')\n",
        "plt.xlabel('SNR Range')\n",
        "plt.ylabel('Bit Error Rate')\n",
        "plt.grid()\n",
        "plt.legend(loc='upper right',ncol = 1)\n",
        "plt.axis([-2, 12, 1e-5, 1])\n"
      ],
      "execution_count": null,
      "outputs": [
        {
          "output_type": "execute_result",
          "data": {
            "text/plain": [
              "(-2.0, 12.0, 1e-05, 1.0)"
            ]
          },
          "metadata": {},
          "execution_count": 38
        },
        {
          "output_type": "display_data",
          "data": {
            "image/png": "[encoded data removed]",
            "text/plain": [
              "<Figure size 432x288 with 1 Axes>"
            ]
          },
          "metadata": {
            "needs_background": "light"
          }
        }
      ]
    },
    {
      "cell_type": "code",
      "metadata": {
        "id": "tzKGU8W6b1sq"
      },
      "source": [
        "# for saving figure remove below comment\n",
        "#plt.savefig('AutoEncoder_2_2_constrained_BER_matplotlib')\n",
        "plt.show()"
      ],
      "execution_count": null,
      "outputs": []
    },
    {
      "cell_type": "code",
      "metadata": {
        "collapsed": true,
        "id": "VREDmboob1sq"
      },
      "source": [],
      "execution_count": null,
      "outputs": []
    }
  ]
}